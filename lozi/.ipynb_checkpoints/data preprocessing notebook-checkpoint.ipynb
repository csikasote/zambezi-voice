{
 "cells": [
  {
   "cell_type": "code",
<<<<<<< HEAD
   "execution_count": 1,
   "metadata": {},
   "outputs": [],
   "source": [
    "# !pip install nltk\n",
    "# !pip install wave\n",
    "# !pip install pandas\n",
    "# !pip install nlp\n",
    "# !pip install --user -U nltk"
   ]
  },
  {
   "cell_type": "code",
   "execution_count": 2,
=======
   "execution_count": 6,
>>>>>>> b3215a2a9a51ae4a59c8ce90bffaef8eb41fcdb5
   "metadata": {},
   "outputs": [],
   "source": [
    "import os \n",
    "import nltk \n",
    "import wave \n",
    "from glob import glob \n",
    "import pandas as pd"
   ]
  },
  {
   "cell_type": "code",
<<<<<<< HEAD
   "execution_count": 3,
=======
   "execution_count": 7,
>>>>>>> b3215a2a9a51ae4a59c8ce90bffaef8eb41fcdb5
   "metadata": {},
   "outputs": [],
   "source": [
    "def remove_punct(text):\n",
    "    tokenizer = nltk.RegexpTokenizer(r\"\\w+\") \n",
    "    new_words = tokenizer.tokenize(text)\n",
    "    t = ''\n",
    "    for i in new_words: \n",
    "        t+= i+' '\n",
    "    return t "
   ]
  },
  {
   "cell_type": "code",
<<<<<<< HEAD
   "execution_count": 4,
   "metadata": {},
   "outputs": [],
   "source": [
    "sessions = glob(\"/Users/cm15/Desktop/project/Speech Translation/zambezi-voice/lozi/wavs/*/Lozi_*.txt\")\n",
    "linkers = glob(\"/Users/cm15/Desktop/project/Speech Translation/zambezi-voice/lozi/wavs/*/*_linker.txt\")"
   ]
  },
  {
   "cell_type": "code",
   "execution_count": 5,
   "metadata": {},
   "outputs": [
    {
     "data": {
      "text/plain": [
       "['/Users/cm15/Desktop/project/Speech Translation/zambezi-voice/lozi/wavs/220813-165251_loz_969_elicit/Lozi_session002.txt',\n",
       " '/Users/cm15/Desktop/project/Speech Translation/zambezi-voice/lozi/wavs/220815-192827_loz_006_elicit/Lozi_session011.txt',\n",
       " '/Users/cm15/Desktop/project/Speech Translation/zambezi-voice/lozi/wavs/220821-215724_loz_006_elicit/Lozi_session021.txt',\n",
       " '/Users/cm15/Desktop/project/Speech Translation/zambezi-voice/lozi/wavs/220813-203957_loz_969_elicit/Lozi_session003.txt',\n",
       " '/Users/cm15/Desktop/project/Speech Translation/zambezi-voice/lozi/wavs/220814-153226_loz_006_elicit/Lozi_session001.txt',\n",
       " '/Users/cm15/Desktop/project/Speech Translation/zambezi-voice/lozi/wavs/220925-220607_loz_0da_elicit/Lozi_session029.txt',\n",
       " '/Users/cm15/Desktop/project/Speech Translation/zambezi-voice/lozi/wavs/220926-014931_loz_0da_elicit/Lozi_session033.txt',\n",
       " '/Users/cm15/Desktop/project/Speech Translation/zambezi-voice/lozi/wavs/220925-013438_loz_0da_elicit/Lozi_session026.txt',\n",
       " '/Users/cm15/Desktop/project/Speech Translation/zambezi-voice/lozi/wavs/220924-122127_loz_969_elicit/Lozi_session017.txt',\n",
       " '/Users/cm15/Desktop/project/Speech Translation/zambezi-voice/lozi/wavs/220814-205913_loz_969_elicit/Lozi_session007.txt',\n",
       " '/Users/cm15/Desktop/project/Speech Translation/zambezi-voice/lozi/wavs/220821-184128_loz_006_elicit/Lozi_session012.txt',\n",
       " '/Users/cm15/Desktop/project/Speech Translation/zambezi-voice/lozi/wavs/220924-184927_loz_969_elicit/Lozi_session020.txt',\n",
       " '/Users/cm15/Desktop/project/Speech Translation/zambezi-voice/lozi/wavs/220820-113505_loz_006_elicit/Lozi_session012.txt',\n",
       " '/Users/cm15/Desktop/project/Speech Translation/zambezi-voice/lozi/wavs/220926-012714_loz_0da_elicit/Lozi_session032.txt',\n",
       " '/Users/cm15/Desktop/project/Speech Translation/zambezi-voice/lozi/wavs/220925-021415_loz_0da_elicit/Lozi_session028.txt',\n",
       " '/Users/cm15/Desktop/project/Speech Translation/zambezi-voice/lozi/wavs/220813-154411_loz_006_elicit/Lozi_session000.txt',\n",
       " '/Users/cm15/Desktop/project/Speech Translation/zambezi-voice/lozi/wavs/220815-233437_loz_969_elicit/Lozi_session009.txt',\n",
       " '/Users/cm15/Desktop/project/Speech Translation/zambezi-voice/lozi/wavs/220924-113627_loz_969_elicit/Lozi_session016.txt',\n",
       " '/Users/cm15/Desktop/project/Speech Translation/zambezi-voice/lozi/wavs/220925-001458_loz_0da_elicit/Lozi_session025.txt',\n",
       " '/Users/cm15/Desktop/project/Speech Translation/zambezi-voice/lozi/wavs/220925-224646_loz_0da_elicit/Lozi_session030.txt',\n",
       " '/Users/cm15/Desktop/project/Speech Translation/zambezi-voice/lozi/wavs/220815-193400_loz_969_elicit/Lozi_session008.txt',\n",
       " '/Users/cm15/Desktop/project/Speech Translation/zambezi-voice/lozi/wavs/220814-171012_loz_006_elicit/Lozi_session010.txt',\n",
       " '/Users/cm15/Desktop/project/Speech Translation/zambezi-voice/lozi/wavs/220926-021027_loz_0da_elicit/Lozi_session034.txt',\n",
       " '/Users/cm15/Desktop/project/Speech Translation/zambezi-voice/lozi/wavs/220813-165110_loz_006_elicit/Lozi_session004.txt',\n",
       " '/Users/cm15/Desktop/project/Speech Translation/zambezi-voice/lozi/wavs/220821-193526_loz_006_elicit/Lozi_session013.txt',\n",
       " '/Users/cm15/Desktop/project/Speech Translation/zambezi-voice/lozi/wavs/220814-223030_loz_969_elicit/Lozi_session005.txt',\n",
       " '/Users/cm15/Desktop/project/Speech Translation/zambezi-voice/lozi/wavs/220924-175953_loz_969_elicit/Lozi_session019.txt',\n",
       " '/Users/cm15/Desktop/project/Speech Translation/zambezi-voice/lozi/wavs/220926-004829_loz_0da_elicit/Lozi_session031.txt',\n",
       " '/Users/cm15/Desktop/project/Speech Translation/zambezi-voice/lozi/wavs/220924-133420_loz_969_elicit/Lozi_session018.txt']"
      ]
     },
     "execution_count": 5,
     "metadata": {},
     "output_type": "execute_result"
    }
   ],
   "source": [
    "sessions"
   ]
  },
  {
   "cell_type": "code",
   "execution_count": 6,
   "metadata": {},
   "outputs": [
    {
     "data": {
      "text/plain": [
       "['/Users/cm15/Desktop/project/Speech Translation/zambezi-voice/lozi/wavs/220813-165251_loz_969_elicit/220813-165251_loz_969_elicit_linker.txt',\n",
       " '/Users/cm15/Desktop/project/Speech Translation/zambezi-voice/lozi/wavs/220928-035559_loz_0da_elicit/220928-035559_loz_0da_elicit_linker.txt',\n",
       " '/Users/cm15/Desktop/project/Speech Translation/zambezi-voice/lozi/wavs/220815-192827_loz_006_elicit/220815-192827_loz_006_elicit_linker.txt',\n",
       " '/Users/cm15/Desktop/project/Speech Translation/zambezi-voice/lozi/wavs/220821-215724_loz_006_elicit/220821-215724_loz_006_elicit_linker.txt',\n",
       " '/Users/cm15/Desktop/project/Speech Translation/zambezi-voice/lozi/wavs/220813-203957_loz_969_elicit/220813-203957_loz_969_elicit_linker.txt',\n",
       " '/Users/cm15/Desktop/project/Speech Translation/zambezi-voice/lozi/wavs/220814-153226_loz_006_elicit/220814-153226_loz_006_elicit_linker.txt',\n",
       " '/Users/cm15/Desktop/project/Speech Translation/zambezi-voice/lozi/wavs/220928-033456_loz_0da_elicit/220928-033456_loz_0da_elicit_linker.txt',\n",
       " '/Users/cm15/Desktop/project/Speech Translation/zambezi-voice/lozi/wavs/220928-042847_loz_0da_elicit/220928-042847_loz_0da_elicit_linker.txt',\n",
       " '/Users/cm15/Desktop/project/Speech Translation/zambezi-voice/lozi/wavs/220925-220607_loz_0da_elicit/220925-220607_loz_0da_elicit_linker.txt',\n",
       " '/Users/cm15/Desktop/project/Speech Translation/zambezi-voice/lozi/wavs/220926-014931_loz_0da_elicit/220926-014931_loz_0da_elicit_linker.txt',\n",
       " '/Users/cm15/Desktop/project/Speech Translation/zambezi-voice/lozi/wavs/220925-013438_loz_0da_elicit/220925-013438_loz_0da_elicit_linker.txt',\n",
       " '/Users/cm15/Desktop/project/Speech Translation/zambezi-voice/lozi/wavs/220924-122127_loz_969_elicit/220924-122127_loz_969_elicit_linker.txt',\n",
       " '/Users/cm15/Desktop/project/Speech Translation/zambezi-voice/lozi/wavs/220814-205913_loz_969_elicit/220814-205913_loz_969_elicit_linker.txt',\n",
       " '/Users/cm15/Desktop/project/Speech Translation/zambezi-voice/lozi/wavs/220821-184128_loz_006_elicit/220821-184128_loz_006_elicit_linker.txt',\n",
       " '/Users/cm15/Desktop/project/Speech Translation/zambezi-voice/lozi/wavs/220924-184927_loz_969_elicit/220924-184927_loz_969_elicit_linker.txt',\n",
       " '/Users/cm15/Desktop/project/Speech Translation/zambezi-voice/lozi/wavs/220820-113505_loz_006_elicit/220820-113505_loz_006_elicit_linker.txt',\n",
       " '/Users/cm15/Desktop/project/Speech Translation/zambezi-voice/lozi/wavs/220926-012714_loz_0da_elicit/220926-012714_loz_0da_elicit_linker.txt',\n",
       " '/Users/cm15/Desktop/project/Speech Translation/zambezi-voice/lozi/wavs/220925-021415_loz_0da_elicit/220925-021415_loz_0da_elicit_linker.txt',\n",
       " '/Users/cm15/Desktop/project/Speech Translation/zambezi-voice/lozi/wavs/220813-154411_loz_006_elicit/220813-154411_loz_006_elicit_linker.txt',\n",
       " '/Users/cm15/Desktop/project/Speech Translation/zambezi-voice/lozi/wavs/220815-233437_loz_969_elicit/220815-233437_loz_969_elicit_linker.txt',\n",
       " '/Users/cm15/Desktop/project/Speech Translation/zambezi-voice/lozi/wavs/220924-113627_loz_969_elicit/220924-113627_loz_969_elicit_linker.txt',\n",
       " '/Users/cm15/Desktop/project/Speech Translation/zambezi-voice/lozi/wavs/220925-001458_loz_0da_elicit/220925-001458_loz_0da_elicit_linker.txt',\n",
       " '/Users/cm15/Desktop/project/Speech Translation/zambezi-voice/lozi/wavs/220925-224646_loz_0da_elicit/220925-224646_loz_0da_elicit_linker.txt',\n",
       " '/Users/cm15/Desktop/project/Speech Translation/zambezi-voice/lozi/wavs/220815-193400_loz_969_elicit/220815-193400_loz_969_elicit_linker.txt',\n",
       " '/Users/cm15/Desktop/project/Speech Translation/zambezi-voice/lozi/wavs/220814-171012_loz_006_elicit/220814-171012_loz_006_elicit_linker.txt',\n",
       " '/Users/cm15/Desktop/project/Speech Translation/zambezi-voice/lozi/wavs/220926-021027_loz_0da_elicit/220926-021027_loz_0da_elicit_linker.txt',\n",
       " '/Users/cm15/Desktop/project/Speech Translation/zambezi-voice/lozi/wavs/220813-165110_loz_006_elicit/220813-165110_loz_006_elicit_linker.txt',\n",
       " '/Users/cm15/Desktop/project/Speech Translation/zambezi-voice/lozi/wavs/220821-193526_loz_006_elicit/220821-193526_loz_006_elicit_linker.txt',\n",
       " '/Users/cm15/Desktop/project/Speech Translation/zambezi-voice/lozi/wavs/220814-223030_loz_969_elicit/220814-223030_loz_969_elicit_linker.txt',\n",
       " '/Users/cm15/Desktop/project/Speech Translation/zambezi-voice/lozi/wavs/220924-175953_loz_969_elicit/220924-175953_loz_969_elicit_linker.txt',\n",
       " '/Users/cm15/Desktop/project/Speech Translation/zambezi-voice/lozi/wavs/220925-215243_loz_0da_elicit/220925-215243_loz_0da_elicit_linker.txt',\n",
       " '/Users/cm15/Desktop/project/Speech Translation/zambezi-voice/lozi/wavs/220926-004829_loz_0da_elicit/220926-004829_loz_0da_elicit_linker.txt',\n",
       " '/Users/cm15/Desktop/project/Speech Translation/zambezi-voice/lozi/wavs/220924-133420_loz_969_elicit/220924-133420_loz_969_elicit_linker.txt']"
      ]
     },
     "execution_count": 6,
     "metadata": {},
     "output_type": "execute_result"
    }
   ],
   "source": [
    "linkers"
=======
   "execution_count": 8,
   "metadata": {},
   "outputs": [],
   "source": [
    "sessions = glob(\"/home/csikasote/Documents/Unza-NLP-Repos/zambezi-voice/lozi/wavs/*/*/session_*.txt\")\n",
    "linkers = glob(\"/home/csikasote/Documents/Unza-NLP-Repos/zambezi-voice/lozi/wavs/*/*/*linker.txt\")"
>>>>>>> b3215a2a9a51ae4a59c8ce90bffaef8eb41fcdb5
   ]
  },
  {
   "cell_type": "code",
<<<<<<< HEAD
   "execution_count": 7,
=======
   "execution_count": 9,
>>>>>>> b3215a2a9a51ae4a59c8ce90bffaef8eb41fcdb5
   "metadata": {},
   "outputs": [],
   "source": [
    "all_session_text = open('all_sessions.txt', 'w') "
   ]
  },
  {
   "cell_type": "code",
<<<<<<< HEAD
   "execution_count": null,
=======
   "execution_count": 10,
>>>>>>> b3215a2a9a51ae4a59c8ce90bffaef8eb41fcdb5
   "metadata": {},
   "outputs": [],
   "source": [
    "corrupted_list = []\n",
    "for linker, sess in zip(linkers, sessions):\n",
    "    sess_read = open(sess, 'r')\n",
    "    link_read = open(linker, 'r')\n",
    "    for link, sentence in zip(link_read.readlines(), sess_read.readlines()):\n",
    "        wav_name = os.path.basename(link).replace('\\n','')\n",
<<<<<<< HEAD
    "        wav_path = glob(\"/Users/cm15/Desktop/project/Speech Translation/zambezi-voice/lozi/wavs/*/{0}\".format(wav_name))\n",
=======
    "        wav_path = glob(\"/home/csikasote/Documents/Unza-NLP-Repos/zambezi-voice/tonga/Session_recordings/*/*/{0}\".format(wav_name))\n",
>>>>>>> b3215a2a9a51ae4a59c8ce90bffaef8eb41fcdb5
    "        if len(wav_path)==0:\n",
    "            continue\n",
    "        wav_path = wav_path[0]\n",
    "        try: \n",
    "            w = wave.open(wav_path, 'r') \n",
    "            d = w.readframes(w.getnframes()) \n",
    "        except: \n",
    "            #print('corrupted audio: {0} '.format(wav_name))\n",
    "            corrupted_list.append(wav_name)\n",
    "            # uncomment if you want to delete the corrupted file \n",
    "            #os.remove(wav_path)\n",
    "            continue \n",
    "        indices = '' \n",
    "        sentence = sentence.replace('##', '') \n",
    "        sentence = remove_punct(sentence).lower()        \n",
    "        all_session_text.writelines(wav_name[:-4] + '\\t' + sentence + '\\n')\n",
    "        \n",
    "corrupt_audio_list_df = pd.DataFrame(corrupted_list, columns =['audio_id'])\n",
    "\n",
    "lozi_data_df = pd.read_csv('/Users/cm15/Desktop/project/Speech Translation/zambezi-voice/lozi/all_sessions.txt', delimiter='\\t', header=None, names=['audio_id', 'sentence'])\n",
    "lozi_data_df.to_csv('/Users/cm15/Desktop/project/Speech Translation/zambezi-voice/lozi/data.csv', sep='\\t',index=False)"
   ]
  },
  {
   "cell_type": "code",
<<<<<<< HEAD
   "execution_count": null,
=======
   "execution_count": 11,
>>>>>>> b3215a2a9a51ae4a59c8ce90bffaef8eb41fcdb5
   "metadata": {},
   "outputs": [],
   "source": [
    "corrupt_audio_list_df.info()"
   ]
  },
  {
   "cell_type": "code",
   "execution_count": null,
   "metadata": {},
   "outputs": [],
   "source": [
    "lozi_data_df.info()"
   ]
  },
  {
   "cell_type": "code",
   "execution_count": null,
   "metadata": {},
   "outputs": [],
   "source": [
    "lozi_data_df.audio_id"
   ]
  },
  {
   "cell_type": "code",
   "execution_count": null,
   "metadata": {},
   "outputs": [],
   "source": [
    "corrupt_audio_list_df.audio_id"
   ]
  },
  {
   "cell_type": "code",
   "execution_count": null,
   "metadata": {},
   "outputs": [],
   "source": []
  }
 ],
 "metadata": {
  "kernelspec": {
   "display_name": "Python 3",
   "language": "python",
   "name": "python3"
  },
  "language_info": {
   "codemirror_mode": {
    "name": "ipython",
    "version": 3
   },
   "file_extension": ".py",
   "mimetype": "text/x-python",
   "name": "python",
   "nbconvert_exporter": "python",
   "pygments_lexer": "ipython3",
   "version": "3.8.10"
  }
 },
 "nbformat": 4,
 "nbformat_minor": 4
}
